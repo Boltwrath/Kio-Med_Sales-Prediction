{
 "cells": [
  {
   "cell_type": "code",
   "execution_count": 31,
   "id": "1f6d16fe",
   "metadata": {},
   "outputs": [],
   "source": [
    "#import vaex\n",
    "import numpy as np\n",
    "import pandas as pd \n",
    "import seaborn as sns\n",
    "import matplotlib.pyplot as plt\n",
    "%matplotlib inline\n",
    "from sklearn.preprocessing import StandardScaler\n",
    "from sklearn import metrics\n",
    "from sklearn.model_selection import train_test_split\n",
    "from sklearn.ensemble import RandomForestRegressor\n",
    "from sklearn.linear_model import LinearRegression\n",
    "from sklearn.model_selection import GridSearchCV\n",
    "from sklearn.ensemble import GradientBoostingRegressor\n",
    "from sklearn.ensemble import AdaBoostRegressor\n",
    "#from xgboost import XGBRegressor\n",
    "import warnings\n",
    "warnings.filterwarnings('ignore')\n"
   ]
  },
  {
   "cell_type": "code",
   "execution_count": 32,
   "id": "3bd738ae-d65d-409b-8dff-993e2122f732",
   "metadata": {},
   "outputs": [],
   "source": [
    "#conda install py-xgboost\n"
   ]
  },
  {
   "cell_type": "code",
   "execution_count": 33,
   "id": "189ef26e",
   "metadata": {},
   "outputs": [],
   "source": [
    "df=pd.read_csv('/Users/boltwrath/Desktop/class/projestd/Final/Data/train_data.csv')"
   ]
  },
  {
   "cell_type": "code",
   "execution_count": 34,
   "id": "3862860b",
   "metadata": {},
   "outputs": [],
   "source": [
    "#data= [chunk for chunk in df_chunk] # storing chunk after iterating from chunk object\n",
    "#df= pd.concat(data) # concatinating dataframes to make it complete dataset\n",
    "#df=pd.read_csv('train_data.csv')"
   ]
  },
  {
   "cell_type": "code",
   "execution_count": 35,
   "id": "35f624c1",
   "metadata": {},
   "outputs": [
    {
     "data": {
      "text/html": [
       "<div>\n",
       "<style scoped>\n",
       "    .dataframe tbody tr th:only-of-type {\n",
       "        vertical-align: middle;\n",
       "    }\n",
       "\n",
       "    .dataframe tbody tr th {\n",
       "        vertical-align: top;\n",
       "    }\n",
       "\n",
       "    .dataframe thead th {\n",
       "        text-align: right;\n",
       "    }\n",
       "</style>\n",
       "<table border=\"1\" class=\"dataframe\">\n",
       "  <thead>\n",
       "    <tr style=\"text-align: right;\">\n",
       "      <th></th>\n",
       "      <th>year</th>\n",
       "      <th>month</th>\n",
       "      <th>day</th>\n",
       "      <th>city</th>\n",
       "      <th>medicine</th>\n",
       "      <th>sales</th>\n",
       "    </tr>\n",
       "  </thead>\n",
       "  <tbody>\n",
       "    <tr>\n",
       "      <th>0</th>\n",
       "      <td>2015</td>\n",
       "      <td>1</td>\n",
       "      <td>2</td>\n",
       "      <td>1</td>\n",
       "      <td>1</td>\n",
       "      <td>24.0</td>\n",
       "    </tr>\n",
       "    <tr>\n",
       "      <th>1</th>\n",
       "      <td>2015</td>\n",
       "      <td>1</td>\n",
       "      <td>2</td>\n",
       "      <td>1</td>\n",
       "      <td>2</td>\n",
       "      <td>144.0</td>\n",
       "    </tr>\n",
       "    <tr>\n",
       "      <th>2</th>\n",
       "      <td>2015</td>\n",
       "      <td>1</td>\n",
       "      <td>2</td>\n",
       "      <td>1</td>\n",
       "      <td>3</td>\n",
       "      <td>84.0</td>\n",
       "    </tr>\n",
       "    <tr>\n",
       "      <th>3</th>\n",
       "      <td>2015</td>\n",
       "      <td>1</td>\n",
       "      <td>2</td>\n",
       "      <td>1</td>\n",
       "      <td>4</td>\n",
       "      <td>24.0</td>\n",
       "    </tr>\n",
       "    <tr>\n",
       "      <th>4</th>\n",
       "      <td>2015</td>\n",
       "      <td>1</td>\n",
       "      <td>2</td>\n",
       "      <td>1</td>\n",
       "      <td>5</td>\n",
       "      <td>8.0</td>\n",
       "    </tr>\n",
       "  </tbody>\n",
       "</table>\n",
       "</div>"
      ],
      "text/plain": [
       "   year  month  day  city  medicine  sales\n",
       "0  2015      1    2     1         1   24.0\n",
       "1  2015      1    2     1         2  144.0\n",
       "2  2015      1    2     1         3   84.0\n",
       "3  2015      1    2     1         4   24.0\n",
       "4  2015      1    2     1         5    8.0"
      ]
     },
     "execution_count": 35,
     "metadata": {},
     "output_type": "execute_result"
    }
   ],
   "source": [
    "df.head()"
   ]
  },
  {
   "cell_type": "code",
   "execution_count": 36,
   "id": "e337e839",
   "metadata": {},
   "outputs": [],
   "source": [
    "df['Date']=pd.to_datetime(df[[\"year\",\"month\",\"day\"]])\n",
    "df['dayofweek'] = df['Date'].dt.dayofweek\n",
    "df['quarter'] = df['Date'].dt.quarter"
   ]
  },
  {
   "cell_type": "code",
   "execution_count": 37,
   "id": "6f4bffcb",
   "metadata": {},
   "outputs": [
    {
     "data": {
      "text/html": [
       "<div>\n",
       "<style scoped>\n",
       "    .dataframe tbody tr th:only-of-type {\n",
       "        vertical-align: middle;\n",
       "    }\n",
       "\n",
       "    .dataframe tbody tr th {\n",
       "        vertical-align: top;\n",
       "    }\n",
       "\n",
       "    .dataframe thead th {\n",
       "        text-align: right;\n",
       "    }\n",
       "</style>\n",
       "<table border=\"1\" class=\"dataframe\">\n",
       "  <thead>\n",
       "    <tr style=\"text-align: right;\">\n",
       "      <th></th>\n",
       "      <th>year</th>\n",
       "      <th>month</th>\n",
       "      <th>day</th>\n",
       "      <th>city</th>\n",
       "      <th>medicine</th>\n",
       "      <th>sales</th>\n",
       "      <th>Date</th>\n",
       "      <th>dayofweek</th>\n",
       "      <th>quarter</th>\n",
       "    </tr>\n",
       "  </thead>\n",
       "  <tbody>\n",
       "    <tr>\n",
       "      <th>0</th>\n",
       "      <td>2015</td>\n",
       "      <td>1</td>\n",
       "      <td>2</td>\n",
       "      <td>1</td>\n",
       "      <td>1</td>\n",
       "      <td>24.0</td>\n",
       "      <td>2015-01-02</td>\n",
       "      <td>4</td>\n",
       "      <td>1</td>\n",
       "    </tr>\n",
       "    <tr>\n",
       "      <th>1</th>\n",
       "      <td>2015</td>\n",
       "      <td>1</td>\n",
       "      <td>2</td>\n",
       "      <td>1</td>\n",
       "      <td>2</td>\n",
       "      <td>144.0</td>\n",
       "      <td>2015-01-02</td>\n",
       "      <td>4</td>\n",
       "      <td>1</td>\n",
       "    </tr>\n",
       "    <tr>\n",
       "      <th>2</th>\n",
       "      <td>2015</td>\n",
       "      <td>1</td>\n",
       "      <td>2</td>\n",
       "      <td>1</td>\n",
       "      <td>3</td>\n",
       "      <td>84.0</td>\n",
       "      <td>2015-01-02</td>\n",
       "      <td>4</td>\n",
       "      <td>1</td>\n",
       "    </tr>\n",
       "    <tr>\n",
       "      <th>3</th>\n",
       "      <td>2015</td>\n",
       "      <td>1</td>\n",
       "      <td>2</td>\n",
       "      <td>1</td>\n",
       "      <td>4</td>\n",
       "      <td>24.0</td>\n",
       "      <td>2015-01-02</td>\n",
       "      <td>4</td>\n",
       "      <td>1</td>\n",
       "    </tr>\n",
       "    <tr>\n",
       "      <th>4</th>\n",
       "      <td>2015</td>\n",
       "      <td>1</td>\n",
       "      <td>2</td>\n",
       "      <td>1</td>\n",
       "      <td>5</td>\n",
       "      <td>8.0</td>\n",
       "      <td>2015-01-02</td>\n",
       "      <td>4</td>\n",
       "      <td>1</td>\n",
       "    </tr>\n",
       "  </tbody>\n",
       "</table>\n",
       "</div>"
      ],
      "text/plain": [
       "   year  month  day  city  medicine  sales       Date  dayofweek  quarter\n",
       "0  2015      1    2     1         1   24.0 2015-01-02          4        1\n",
       "1  2015      1    2     1         2  144.0 2015-01-02          4        1\n",
       "2  2015      1    2     1         3   84.0 2015-01-02          4        1\n",
       "3  2015      1    2     1         4   24.0 2015-01-02          4        1\n",
       "4  2015      1    2     1         5    8.0 2015-01-02          4        1"
      ]
     },
     "execution_count": 37,
     "metadata": {},
     "output_type": "execute_result"
    }
   ],
   "source": [
    "df.head()"
   ]
  },
  {
   "cell_type": "code",
   "execution_count": 38,
   "id": "6ee1b7cc",
   "metadata": {},
   "outputs": [],
   "source": [
    "df.drop([\"Date\"], axis=1, inplace=True)"
   ]
  },
  {
   "cell_type": "code",
   "execution_count": 39,
   "id": "a87c4e50",
   "metadata": {},
   "outputs": [],
   "source": [
    "df.drop([\"year\"], axis=1, inplace=True)"
   ]
  },
  {
   "cell_type": "code",
   "execution_count": 40,
   "id": "89234fc7",
   "metadata": {},
   "outputs": [
    {
     "name": "stdout",
     "output_type": "stream",
     "text": [
      "<class 'pandas.core.frame.DataFrame'>\n",
      "RangeIndex: 22624345 entries, 0 to 22624344\n",
      "Data columns (total 7 columns):\n",
      " #   Column     Dtype  \n",
      "---  ------     -----  \n",
      " 0   month      int64  \n",
      " 1   day        int64  \n",
      " 2   city       int64  \n",
      " 3   medicine   int64  \n",
      " 4   sales      float64\n",
      " 5   dayofweek  int64  \n",
      " 6   quarter    int64  \n",
      "dtypes: float64(1), int64(6)\n",
      "memory usage: 1.2 GB\n"
     ]
    }
   ],
   "source": [
    "df.info(verbose=True, memory_usage=True)"
   ]
  },
  {
   "cell_type": "code",
   "execution_count": 41,
   "id": "fce90d05",
   "metadata": {},
   "outputs": [],
   "source": [
    "cat_list=[\"month\",\"day\",\"city\",\"medicine\",\"dayofweek\"]\n",
    "df[cat_list] = df[cat_list].astype(\"category\")   "
   ]
  },
  {
   "cell_type": "code",
   "execution_count": 42,
   "id": "f82b7ad4",
   "metadata": {},
   "outputs": [],
   "source": [
    "#df=df[df.sales >= 0]"
   ]
  },
  {
   "cell_type": "code",
   "execution_count": 43,
   "id": "daf4410b",
   "metadata": {},
   "outputs": [
    {
     "data": {
      "text/html": [
       "<div>\n",
       "<style scoped>\n",
       "    .dataframe tbody tr th:only-of-type {\n",
       "        vertical-align: middle;\n",
       "    }\n",
       "\n",
       "    .dataframe tbody tr th {\n",
       "        vertical-align: top;\n",
       "    }\n",
       "\n",
       "    .dataframe thead th {\n",
       "        text-align: right;\n",
       "    }\n",
       "</style>\n",
       "<table border=\"1\" class=\"dataframe\">\n",
       "  <thead>\n",
       "    <tr style=\"text-align: right;\">\n",
       "      <th></th>\n",
       "      <th>sales</th>\n",
       "      <th>quarter</th>\n",
       "    </tr>\n",
       "  </thead>\n",
       "  <tbody>\n",
       "    <tr>\n",
       "      <th>count</th>\n",
       "      <td>2.262434e+07</td>\n",
       "      <td>2.262434e+07</td>\n",
       "    </tr>\n",
       "    <tr>\n",
       "      <th>mean</th>\n",
       "      <td>5.166032e+01</td>\n",
       "      <td>2.402649e+00</td>\n",
       "    </tr>\n",
       "    <tr>\n",
       "      <th>std</th>\n",
       "      <td>1.100297e+02</td>\n",
       "      <td>1.118680e+00</td>\n",
       "    </tr>\n",
       "    <tr>\n",
       "      <th>min</th>\n",
       "      <td>-9.948000e+03</td>\n",
       "      <td>1.000000e+00</td>\n",
       "    </tr>\n",
       "    <tr>\n",
       "      <th>25%</th>\n",
       "      <td>1.200000e+01</td>\n",
       "      <td>1.000000e+00</td>\n",
       "    </tr>\n",
       "    <tr>\n",
       "      <th>50%</th>\n",
       "      <td>2.800000e+01</td>\n",
       "      <td>2.000000e+00</td>\n",
       "    </tr>\n",
       "    <tr>\n",
       "      <th>75%</th>\n",
       "      <td>5.600000e+01</td>\n",
       "      <td>3.000000e+00</td>\n",
       "    </tr>\n",
       "    <tr>\n",
       "      <th>max</th>\n",
       "      <td>8.299200e+04</td>\n",
       "      <td>4.000000e+00</td>\n",
       "    </tr>\n",
       "  </tbody>\n",
       "</table>\n",
       "</div>"
      ],
      "text/plain": [
       "              sales       quarter\n",
       "count  2.262434e+07  2.262434e+07\n",
       "mean   5.166032e+01  2.402649e+00\n",
       "std    1.100297e+02  1.118680e+00\n",
       "min   -9.948000e+03  1.000000e+00\n",
       "25%    1.200000e+01  1.000000e+00\n",
       "50%    2.800000e+01  2.000000e+00\n",
       "75%    5.600000e+01  3.000000e+00\n",
       "max    8.299200e+04  4.000000e+00"
      ]
     },
     "execution_count": 43,
     "metadata": {},
     "output_type": "execute_result"
    }
   ],
   "source": [
    "df.describe()"
   ]
  },
  {
   "cell_type": "code",
   "execution_count": 44,
   "id": "882c1f8a",
   "metadata": {},
   "outputs": [],
   "source": [
    "df['sales']=df['sales'].astype(np.int16)"
   ]
  },
  {
   "cell_type": "code",
   "execution_count": 45,
   "id": "4402a5ee",
   "metadata": {},
   "outputs": [
    {
     "data": {
      "text/plain": [
       "month        0\n",
       "day          0\n",
       "city         0\n",
       "medicine     0\n",
       "sales        0\n",
       "dayofweek    0\n",
       "quarter      0\n",
       "dtype: int64"
      ]
     },
     "execution_count": 45,
     "metadata": {},
     "output_type": "execute_result"
    }
   ],
   "source": [
    "df.isnull().sum()"
   ]
  },
  {
   "cell_type": "code",
   "execution_count": 46,
   "id": "163722b4",
   "metadata": {},
   "outputs": [
    {
     "data": {
      "text/plain": [
       "month        0\n",
       "day          0\n",
       "city         0\n",
       "medicine     0\n",
       "sales        0\n",
       "dayofweek    0\n",
       "quarter      0\n",
       "dtype: int64"
      ]
     },
     "execution_count": 46,
     "metadata": {},
     "output_type": "execute_result"
    }
   ],
   "source": [
    "df.isna().sum()"
   ]
  },
  {
   "cell_type": "code",
   "execution_count": 47,
   "id": "40731f1e",
   "metadata": {},
   "outputs": [
    {
     "name": "stdout",
     "output_type": "stream",
     "text": [
      "<class 'pandas.core.frame.DataFrame'>\n",
      "RangeIndex: 22624345 entries, 0 to 22624344\n",
      "Data columns (total 7 columns):\n",
      " #   Column     Dtype   \n",
      "---  ------     -----   \n",
      " 0   month      category\n",
      " 1   day        category\n",
      " 2   city       category\n",
      " 3   medicine   category\n",
      " 4   sales      int16   \n",
      " 5   dayofweek  category\n",
      " 6   quarter    int64   \n",
      "dtypes: category(5), int16(1), int64(1)\n",
      "memory usage: 345.4 MB\n"
     ]
    }
   ],
   "source": [
    "df.info(verbose=True, memory_usage=True)"
   ]
  },
  {
   "cell_type": "code",
   "execution_count": 48,
   "id": "33b190be-6803-42f4-92fe-8fec29d10d05",
   "metadata": {},
   "outputs": [
    {
     "data": {
      "image/png": "[encoded data removed]",
      "text/plain": [
       "<Figure size 432x288 with 1 Axes>"
      ]
     },
     "metadata": {
      "needs_background": "light"
     },
     "output_type": "display_data"
    }
   ],
   "source": [
    "sns.countplot(df['quarter'])\n",
    "plt.savefig('Quarter_count.png')"
   ]
  },
  {
   "cell_type": "code",
   "execution_count": 18,
   "id": "cead51ee-d706-4010-8cbd-659a947177fe",
   "metadata": {},
   "outputs": [
    {
     "data": {
      "image/png": "[encoded data removed]",
      "text/plain": [
       "<Figure size 432x288 with 1 Axes>"
      ]
     },
     "metadata": {
      "needs_background": "light"
     },
     "output_type": "display_data"
    }
   ],
   "source": [
    "sns.countplot(df['medicine'])\n",
    "plt.savefig('Medicine_count.png')\n"
   ]
  },
  {
   "cell_type": "code",
   "execution_count": 19,
   "id": "a3a04360",
   "metadata": {},
   "outputs": [
    {
     "data": {
      "image/png": "[encoded data removed]",
      "text/plain": [
       "<Figure size 432x288 with 1 Axes>"
      ]
     },
     "metadata": {
      "needs_background": "light"
     },
     "output_type": "display_data"
    }
   ],
   "source": [
    "sns.countplot(df['month'])\n",
    "plt.savefig('Month_count.png')"
   ]
  },
  {
   "cell_type": "code",
   "execution_count": 20,
   "id": "fa2a10cd",
   "metadata": {},
   "outputs": [
    {
     "data": {
      "image/png": "[encoded data removed]",
      "text/plain": [
       "<Figure size 432x288 with 1 Axes>"
      ]
     },
     "metadata": {
      "needs_background": "light"
     },
     "output_type": "display_data"
    }
   ],
   "source": [
    "sns.countplot(df['city'])\n",
    "plt.savefig('City_count.png')"
   ]
  },
  {
   "cell_type": "code",
   "execution_count": 21,
   "id": "e18ed1b5",
   "metadata": {},
   "outputs": [
    {
     "data": {
      "image/png": "[encoded data removed]",
      "text/plain": [
       "<Figure size 432x288 with 1 Axes>"
      ]
     },
     "metadata": {
      "needs_background": "light"
     },
     "output_type": "display_data"
    }
   ],
   "source": [
    "sns.countplot(df['dayofweek'])\n",
    "plt.savefig('Dayofweek_count.png')"
   ]
  },
  {
   "cell_type": "code",
   "execution_count": 22,
   "id": "ce316689",
   "metadata": {},
   "outputs": [],
   "source": [
    "month_grp= df.groupby(['month'])\n",
    "day_grp= df.groupby(['day'])\n",
    "city_grp= df.groupby(['city'])\n",
    "medicine_grp= df.groupby(['medicine'])\n",
    "dayofweek_grp= df.groupby(['dayofweek'])\n",
    "#quarter_grp= df.groupby(['quarter'])\n",
    "sales_grp= df.groupby(['sales'])\n"
   ]
  },
  {
   "cell_type": "code",
   "execution_count": 23,
   "id": "cd70f681",
   "metadata": {},
   "outputs": [],
   "source": [
    "month_agg=month_grp['sales'].agg(['mean','std'])"
   ]
  },
  {
   "cell_type": "code",
   "execution_count": 24,
   "id": "b36a63c0",
   "metadata": {},
   "outputs": [],
   "source": [
    "day_agg=day_grp['sales'].agg(['mean','std'])"
   ]
  },
  {
   "cell_type": "code",
   "execution_count": 25,
   "id": "5368be67",
   "metadata": {},
   "outputs": [],
   "source": [
    "dayofweek_agg=dayofweek_grp['sales'].agg(['mean','std'])"
   ]
  },
  {
   "cell_type": "code",
   "execution_count": 26,
   "id": "046e2e5a",
   "metadata": {},
   "outputs": [],
   "source": [
    "#quarter_agg=quarter_grp['sales'].agg(['mean','std'])"
   ]
  },
  {
   "cell_type": "code",
   "execution_count": 27,
   "id": "6e4917f1",
   "metadata": {},
   "outputs": [],
   "source": [
    "medicine_agg=medicine_grp['sales'].agg(['mean','std'])"
   ]
  },
  {
   "cell_type": "code",
   "execution_count": 28,
   "id": "2fb1b088",
   "metadata": {},
   "outputs": [
    {
     "data": {
      "text/html": [
       "<div>\n",
       "<style scoped>\n",
       "    .dataframe tbody tr th:only-of-type {\n",
       "        vertical-align: middle;\n",
       "    }\n",
       "\n",
       "    .dataframe tbody tr th {\n",
       "        vertical-align: top;\n",
       "    }\n",
       "\n",
       "    .dataframe thead th {\n",
       "        text-align: right;\n",
       "    }\n",
       "</style>\n",
       "<table border=\"1\" class=\"dataframe\">\n",
       "  <thead>\n",
       "    <tr style=\"text-align: right;\">\n",
       "      <th></th>\n",
       "      <th>mean</th>\n",
       "      <th>std</th>\n",
       "    </tr>\n",
       "  </thead>\n",
       "  <tbody>\n",
       "    <tr>\n",
       "      <th>count</th>\n",
       "      <td>10.000000</td>\n",
       "      <td>10.000000</td>\n",
       "    </tr>\n",
       "    <tr>\n",
       "      <th>mean</th>\n",
       "      <td>51.188844</td>\n",
       "      <td>100.947602</td>\n",
       "    </tr>\n",
       "    <tr>\n",
       "      <th>std</th>\n",
       "      <td>12.901420</td>\n",
       "      <td>32.606540</td>\n",
       "    </tr>\n",
       "    <tr>\n",
       "      <th>min</th>\n",
       "      <td>33.350248</td>\n",
       "      <td>53.778924</td>\n",
       "    </tr>\n",
       "    <tr>\n",
       "      <th>25%</th>\n",
       "      <td>39.896148</td>\n",
       "      <td>77.422948</td>\n",
       "    </tr>\n",
       "    <tr>\n",
       "      <th>50%</th>\n",
       "      <td>50.991895</td>\n",
       "      <td>102.988663</td>\n",
       "    </tr>\n",
       "    <tr>\n",
       "      <th>75%</th>\n",
       "      <td>60.245029</td>\n",
       "      <td>114.637762</td>\n",
       "    </tr>\n",
       "    <tr>\n",
       "      <th>max</th>\n",
       "      <td>72.661530</td>\n",
       "      <td>165.751310</td>\n",
       "    </tr>\n",
       "  </tbody>\n",
       "</table>\n",
       "</div>"
      ],
      "text/plain": [
       "            mean         std\n",
       "count  10.000000   10.000000\n",
       "mean   51.188844  100.947602\n",
       "std    12.901420   32.606540\n",
       "min    33.350248   53.778924\n",
       "25%    39.896148   77.422948\n",
       "50%    50.991895  102.988663\n",
       "75%    60.245029  114.637762\n",
       "max    72.661530  165.751310"
      ]
     },
     "execution_count": 28,
     "metadata": {},
     "output_type": "execute_result"
    }
   ],
   "source": [
    "city_agg=city_grp['sales'].agg(['mean','std'])\n",
    "city_agg.describe()"
   ]
  },
  {
   "cell_type": "code",
   "execution_count": 29,
   "id": "4729509e",
   "metadata": {},
   "outputs": [],
   "source": [
    "main= pd.merge(df,city_agg,on='city')\n",
    "main.head(30) \n",
    "main.rename(columns = {'mean': 'city_mean','std': 'city_std'}, inplace = True)\n"
   ]
  },
  {
   "cell_type": "code",
   "execution_count": 30,
   "id": "e57185c1",
   "metadata": {},
   "outputs": [
    {
     "data": {
      "text/html": [
       "<div>\n",
       "<style scoped>\n",
       "    .dataframe tbody tr th:only-of-type {\n",
       "        vertical-align: middle;\n",
       "    }\n",
       "\n",
       "    .dataframe tbody tr th {\n",
       "        vertical-align: top;\n",
       "    }\n",
       "\n",
       "    .dataframe thead th {\n",
       "        text-align: right;\n",
       "    }\n",
       "</style>\n",
       "<table border=\"1\" class=\"dataframe\">\n",
       "  <thead>\n",
       "    <tr style=\"text-align: right;\">\n",
       "      <th></th>\n",
       "      <th>month</th>\n",
       "      <th>day</th>\n",
       "      <th>city</th>\n",
       "      <th>medicine</th>\n",
       "      <th>sales</th>\n",
       "      <th>dayofweek</th>\n",
       "      <th>city_mean</th>\n",
       "      <th>city_std</th>\n",
       "    </tr>\n",
       "  </thead>\n",
       "  <tbody>\n",
       "    <tr>\n",
       "      <th>0</th>\n",
       "      <td>1</td>\n",
       "      <td>2</td>\n",
       "      <td>1</td>\n",
       "      <td>1</td>\n",
       "      <td>24</td>\n",
       "      <td>4</td>\n",
       "      <td>60.401558</td>\n",
       "      <td>116.791928</td>\n",
       "    </tr>\n",
       "    <tr>\n",
       "      <th>1</th>\n",
       "      <td>1</td>\n",
       "      <td>2</td>\n",
       "      <td>1</td>\n",
       "      <td>2</td>\n",
       "      <td>144</td>\n",
       "      <td>4</td>\n",
       "      <td>60.401558</td>\n",
       "      <td>116.791928</td>\n",
       "    </tr>\n",
       "    <tr>\n",
       "      <th>2</th>\n",
       "      <td>1</td>\n",
       "      <td>2</td>\n",
       "      <td>1</td>\n",
       "      <td>3</td>\n",
       "      <td>84</td>\n",
       "      <td>4</td>\n",
       "      <td>60.401558</td>\n",
       "      <td>116.791928</td>\n",
       "    </tr>\n",
       "    <tr>\n",
       "      <th>3</th>\n",
       "      <td>1</td>\n",
       "      <td>2</td>\n",
       "      <td>1</td>\n",
       "      <td>4</td>\n",
       "      <td>24</td>\n",
       "      <td>4</td>\n",
       "      <td>60.401558</td>\n",
       "      <td>116.791928</td>\n",
       "    </tr>\n",
       "    <tr>\n",
       "      <th>4</th>\n",
       "      <td>1</td>\n",
       "      <td>2</td>\n",
       "      <td>1</td>\n",
       "      <td>5</td>\n",
       "      <td>8</td>\n",
       "      <td>4</td>\n",
       "      <td>60.401558</td>\n",
       "      <td>116.791928</td>\n",
       "    </tr>\n",
       "  </tbody>\n",
       "</table>\n",
       "</div>"
      ],
      "text/plain": [
       "  month day city medicine  sales dayofweek  city_mean    city_std\n",
       "0     1   2    1        1     24         4  60.401558  116.791928\n",
       "1     1   2    1        2    144         4  60.401558  116.791928\n",
       "2     1   2    1        3     84         4  60.401558  116.791928\n",
       "3     1   2    1        4     24         4  60.401558  116.791928\n",
       "4     1   2    1        5      8         4  60.401558  116.791928"
      ]
     },
     "execution_count": 30,
     "metadata": {},
     "output_type": "execute_result"
    }
   ],
   "source": [
    "main.head()"
   ]
  },
  {
   "cell_type": "code",
   "execution_count": 28,
   "id": "94702723",
   "metadata": {},
   "outputs": [],
   "source": [
    "#main.describe()"
   ]
  },
  {
   "cell_type": "code",
   "execution_count": 29,
   "id": "5e1d324e",
   "metadata": {},
   "outputs": [],
   "source": [
    "main2= pd.merge(main,month_agg,on='month')\n",
    "main2.rename(columns = {'mean': 'month_mean','std': 'month_std'}, inplace = True)"
   ]
  },
  {
   "cell_type": "code",
   "execution_count": 30,
   "id": "93cd1f67",
   "metadata": {},
   "outputs": [],
   "source": [
    "#main2.describe()"
   ]
  },
  {
   "cell_type": "code",
   "execution_count": 31,
   "id": "6150a671",
   "metadata": {},
   "outputs": [],
   "source": [
    "main3= pd.merge(main2,day_agg,on='day') \n",
    "main3.rename(columns = {'mean': 'day_mean','std': 'day_std'}, inplace = True)\n"
   ]
  },
  {
   "cell_type": "code",
   "execution_count": 32,
   "id": "3a8617e9",
   "metadata": {},
   "outputs": [],
   "source": [
    "#main3.describe()"
   ]
  },
  {
   "cell_type": "code",
   "execution_count": 33,
   "id": "30a9c96d",
   "metadata": {},
   "outputs": [],
   "source": [
    "main4= pd.merge(main3,medicine_agg,on='medicine')\n",
    "main4.rename(columns = {'mean': 'medicine_mean', 'std': 'medicine_std'}, inplace = True)\n"
   ]
  },
  {
   "cell_type": "code",
   "execution_count": 34,
   "id": "7f3f7b9d",
   "metadata": {},
   "outputs": [],
   "source": [
    "#main4.describe()"
   ]
  },
  {
   "cell_type": "code",
   "execution_count": 35,
   "id": "982d6a3e",
   "metadata": {},
   "outputs": [],
   "source": [
    "main_df= pd.merge(main4,dayofweek_agg,on='dayofweek') \n",
    "main_df.rename(columns = {'mean': 'dayofweek_mean', 'std': 'dayofweek_std'}, inplace = True)"
   ]
  },
  {
   "cell_type": "code",
   "execution_count": 36,
   "id": "7a9842a7",
   "metadata": {},
   "outputs": [],
   "source": [
    "#main5.describe()"
   ]
  },
  {
   "cell_type": "code",
   "execution_count": 37,
   "id": "6743b5c6",
   "metadata": {},
   "outputs": [],
   "source": [
    "#main_df= pd.merge(main5,quarter_agg,on='quarter')\n",
    "#main_df.rename(columns = {'mean': 'quarter_mean','std': 'quarter_std'}, inplace = True)\n",
    "#main_df.describe()\n"
   ]
  },
  {
   "cell_type": "code",
   "execution_count": 38,
   "id": "474d8525",
   "metadata": {},
   "outputs": [],
   "source": [
    "drop=[\"month\",\"day\",\"city\",\"medicine\",\"dayofweek\"]"
   ]
  },
  {
   "cell_type": "code",
   "execution_count": 39,
   "id": "bb89fe87",
   "metadata": {},
   "outputs": [],
   "source": [
    "main_df.drop(drop, axis=1, inplace=True)"
   ]
  },
  {
   "cell_type": "code",
   "execution_count": 40,
   "id": "cfc5cc15",
   "metadata": {},
   "outputs": [
    {
     "data": {
      "text/html": [
       "<div>\n",
       "<style scoped>\n",
       "    .dataframe tbody tr th:only-of-type {\n",
       "        vertical-align: middle;\n",
       "    }\n",
       "\n",
       "    .dataframe tbody tr th {\n",
       "        vertical-align: top;\n",
       "    }\n",
       "\n",
       "    .dataframe thead th {\n",
       "        text-align: right;\n",
       "    }\n",
       "</style>\n",
       "<table border=\"1\" class=\"dataframe\">\n",
       "  <thead>\n",
       "    <tr style=\"text-align: right;\">\n",
       "      <th></th>\n",
       "      <th>sales</th>\n",
       "      <th>city_mean</th>\n",
       "      <th>city_std</th>\n",
       "      <th>month_mean</th>\n",
       "      <th>month_std</th>\n",
       "      <th>day_mean</th>\n",
       "      <th>day_std</th>\n",
       "      <th>medicine_mean</th>\n",
       "      <th>medicine_std</th>\n",
       "      <th>dayofweek_mean</th>\n",
       "      <th>dayofweek_std</th>\n",
       "    </tr>\n",
       "  </thead>\n",
       "  <tbody>\n",
       "    <tr>\n",
       "      <th>sales</th>\n",
       "      <td>1.000000</td>\n",
       "      <td>0.114083</td>\n",
       "      <td>0.111010</td>\n",
       "      <td>0.030597</td>\n",
       "      <td>0.027913</td>\n",
       "      <td>0.031815</td>\n",
       "      <td>0.008951</td>\n",
       "      <td>0.635772</td>\n",
       "      <td>0.518792</td>\n",
       "      <td>0.082528</td>\n",
       "      <td>0.074883</td>\n",
       "    </tr>\n",
       "    <tr>\n",
       "      <th>city_mean</th>\n",
       "      <td>0.114083</td>\n",
       "      <td>1.000000</td>\n",
       "      <td>0.973061</td>\n",
       "      <td>-0.000876</td>\n",
       "      <td>-0.000659</td>\n",
       "      <td>-0.001640</td>\n",
       "      <td>-0.000280</td>\n",
       "      <td>-0.012958</td>\n",
       "      <td>-0.008443</td>\n",
       "      <td>-0.004430</td>\n",
       "      <td>-0.004035</td>\n",
       "    </tr>\n",
       "    <tr>\n",
       "      <th>city_std</th>\n",
       "      <td>0.111010</td>\n",
       "      <td>0.973061</td>\n",
       "      <td>1.000000</td>\n",
       "      <td>-0.000752</td>\n",
       "      <td>-0.000556</td>\n",
       "      <td>-0.001475</td>\n",
       "      <td>-0.000279</td>\n",
       "      <td>-0.012266</td>\n",
       "      <td>-0.007916</td>\n",
       "      <td>-0.003765</td>\n",
       "      <td>-0.003500</td>\n",
       "    </tr>\n",
       "    <tr>\n",
       "      <th>month_mean</th>\n",
       "      <td>0.030597</td>\n",
       "      <td>-0.000876</td>\n",
       "      <td>-0.000752</td>\n",
       "      <td>1.000000</td>\n",
       "      <td>0.912267</td>\n",
       "      <td>0.008206</td>\n",
       "      <td>0.000198</td>\n",
       "      <td>0.014678</td>\n",
       "      <td>0.019458</td>\n",
       "      <td>-0.008584</td>\n",
       "      <td>-0.000679</td>\n",
       "    </tr>\n",
       "    <tr>\n",
       "      <th>month_std</th>\n",
       "      <td>0.027913</td>\n",
       "      <td>-0.000659</td>\n",
       "      <td>-0.000556</td>\n",
       "      <td>0.912267</td>\n",
       "      <td>1.000000</td>\n",
       "      <td>0.012469</td>\n",
       "      <td>0.004842</td>\n",
       "      <td>0.009581</td>\n",
       "      <td>0.016678</td>\n",
       "      <td>-0.010951</td>\n",
       "      <td>-0.003308</td>\n",
       "    </tr>\n",
       "    <tr>\n",
       "      <th>day_mean</th>\n",
       "      <td>0.031815</td>\n",
       "      <td>-0.001640</td>\n",
       "      <td>-0.001475</td>\n",
       "      <td>0.008206</td>\n",
       "      <td>0.012469</td>\n",
       "      <td>1.000000</td>\n",
       "      <td>0.281352</td>\n",
       "      <td>-0.004046</td>\n",
       "      <td>-0.003328</td>\n",
       "      <td>-0.008876</td>\n",
       "      <td>-0.004561</td>\n",
       "    </tr>\n",
       "    <tr>\n",
       "      <th>day_std</th>\n",
       "      <td>0.008951</td>\n",
       "      <td>-0.000280</td>\n",
       "      <td>-0.000279</td>\n",
       "      <td>0.000198</td>\n",
       "      <td>0.004842</td>\n",
       "      <td>0.281352</td>\n",
       "      <td>1.000000</td>\n",
       "      <td>-0.001020</td>\n",
       "      <td>-0.000511</td>\n",
       "      <td>-0.008351</td>\n",
       "      <td>0.000672</td>\n",
       "    </tr>\n",
       "    <tr>\n",
       "      <th>medicine_mean</th>\n",
       "      <td>0.635772</td>\n",
       "      <td>-0.012958</td>\n",
       "      <td>-0.012266</td>\n",
       "      <td>0.014678</td>\n",
       "      <td>0.009581</td>\n",
       "      <td>-0.004046</td>\n",
       "      <td>-0.001020</td>\n",
       "      <td>1.000000</td>\n",
       "      <td>0.816004</td>\n",
       "      <td>-0.010895</td>\n",
       "      <td>-0.009049</td>\n",
       "    </tr>\n",
       "    <tr>\n",
       "      <th>medicine_std</th>\n",
       "      <td>0.518792</td>\n",
       "      <td>-0.008443</td>\n",
       "      <td>-0.007916</td>\n",
       "      <td>0.019458</td>\n",
       "      <td>0.016678</td>\n",
       "      <td>-0.003328</td>\n",
       "      <td>-0.000511</td>\n",
       "      <td>0.816004</td>\n",
       "      <td>1.000000</td>\n",
       "      <td>-0.009236</td>\n",
       "      <td>-0.007869</td>\n",
       "    </tr>\n",
       "    <tr>\n",
       "      <th>dayofweek_mean</th>\n",
       "      <td>0.082528</td>\n",
       "      <td>-0.004430</td>\n",
       "      <td>-0.003765</td>\n",
       "      <td>-0.008584</td>\n",
       "      <td>-0.010951</td>\n",
       "      <td>-0.008876</td>\n",
       "      <td>-0.008351</td>\n",
       "      <td>-0.010895</td>\n",
       "      <td>-0.009236</td>\n",
       "      <td>1.000000</td>\n",
       "      <td>0.907359</td>\n",
       "    </tr>\n",
       "    <tr>\n",
       "      <th>dayofweek_std</th>\n",
       "      <td>0.074883</td>\n",
       "      <td>-0.004035</td>\n",
       "      <td>-0.003500</td>\n",
       "      <td>-0.000679</td>\n",
       "      <td>-0.003308</td>\n",
       "      <td>-0.004561</td>\n",
       "      <td>0.000672</td>\n",
       "      <td>-0.009049</td>\n",
       "      <td>-0.007869</td>\n",
       "      <td>0.907359</td>\n",
       "      <td>1.000000</td>\n",
       "    </tr>\n",
       "  </tbody>\n",
       "</table>\n",
       "</div>"
      ],
      "text/plain": [
       "                   sales  city_mean  city_std  month_mean  month_std  \\\n",
       "sales           1.000000   0.114083  0.111010    0.030597   0.027913   \n",
       "city_mean       0.114083   1.000000  0.973061   -0.000876  -0.000659   \n",
       "city_std        0.111010   0.973061  1.000000   -0.000752  -0.000556   \n",
       "month_mean      0.030597  -0.000876 -0.000752    1.000000   0.912267   \n",
       "month_std       0.027913  -0.000659 -0.000556    0.912267   1.000000   \n",
       "day_mean        0.031815  -0.001640 -0.001475    0.008206   0.012469   \n",
       "day_std         0.008951  -0.000280 -0.000279    0.000198   0.004842   \n",
       "medicine_mean   0.635772  -0.012958 -0.012266    0.014678   0.009581   \n",
       "medicine_std    0.518792  -0.008443 -0.007916    0.019458   0.016678   \n",
       "dayofweek_mean  0.082528  -0.004430 -0.003765   -0.008584  -0.010951   \n",
       "dayofweek_std   0.074883  -0.004035 -0.003500   -0.000679  -0.003308   \n",
       "\n",
       "                day_mean   day_std  medicine_mean  medicine_std  \\\n",
       "sales           0.031815  0.008951       0.635772      0.518792   \n",
       "city_mean      -0.001640 -0.000280      -0.012958     -0.008443   \n",
       "city_std       -0.001475 -0.000279      -0.012266     -0.007916   \n",
       "month_mean      0.008206  0.000198       0.014678      0.019458   \n",
       "month_std       0.012469  0.004842       0.009581      0.016678   \n",
       "day_mean        1.000000  0.281352      -0.004046     -0.003328   \n",
       "day_std         0.281352  1.000000      -0.001020     -0.000511   \n",
       "medicine_mean  -0.004046 -0.001020       1.000000      0.816004   \n",
       "medicine_std   -0.003328 -0.000511       0.816004      1.000000   \n",
       "dayofweek_mean -0.008876 -0.008351      -0.010895     -0.009236   \n",
       "dayofweek_std  -0.004561  0.000672      -0.009049     -0.007869   \n",
       "\n",
       "                dayofweek_mean  dayofweek_std  \n",
       "sales                 0.082528       0.074883  \n",
       "city_mean            -0.004430      -0.004035  \n",
       "city_std             -0.003765      -0.003500  \n",
       "month_mean           -0.008584      -0.000679  \n",
       "month_std            -0.010951      -0.003308  \n",
       "day_mean             -0.008876      -0.004561  \n",
       "day_std              -0.008351       0.000672  \n",
       "medicine_mean        -0.010895      -0.009049  \n",
       "medicine_std         -0.009236      -0.007869  \n",
       "dayofweek_mean        1.000000       0.907359  \n",
       "dayofweek_std         0.907359       1.000000  "
      ]
     },
     "execution_count": 40,
     "metadata": {},
     "output_type": "execute_result"
    }
   ],
   "source": [
    "main_df.corr()"
   ]
  },
  {
   "cell_type": "code",
   "execution_count": 42,
   "id": "0415c384",
   "metadata": {},
   "outputs": [
    {
     "data": {
      "text/plain": [
       "<AxesSubplot:>"
      ]
     },
     "execution_count": 42,
     "metadata": {},
     "output_type": "execute_result"
    },
    {
     "data": {
      "image/png": "[encoded data removed]",
      "text/plain": [
       "<Figure size 1152x360 with 2 Axes>"
      ]
     },
     "metadata": {
      "needs_background": "light"
     },
     "output_type": "display_data"
    }
   ],
   "source": [
    "plt.figure(figsize = (16,5))\n",
    "sns.heatmap(main_df.corr(),vmin=-1, vmax=1, annot=True)"
   ]
  },
  {
   "cell_type": "code",
   "execution_count": 41,
   "id": "6dc71674",
   "metadata": {},
   "outputs": [],
   "source": [
    "def correlation(dataset, thrashold):\n",
    "    col_corr=set()\n",
    "    corr_matrix=dataset.corr()\n",
    "    for i in range(len(corr_matrix.columns)):\n",
    "        for j in range(i):\n",
    "            if (corr_matrix.iloc[i,j]) > thrashold:\n",
    "                colname= corr_matrix.columns[i]\n",
    "                col_corr.add(colname)\n",
    "               \n",
    "    return col_corr        "
   ]
  },
  {
   "cell_type": "code",
   "execution_count": 42,
   "id": "554f4fd4",
   "metadata": {},
   "outputs": [
    {
     "data": {
      "text/plain": [
       "{'city_std', 'dayofweek_std', 'medicine_std', 'month_std'}"
      ]
     },
     "execution_count": 42,
     "metadata": {},
     "output_type": "execute_result"
    }
   ],
   "source": [
    "corr_features =correlation(main_df, 0.7)\n",
    "len(set(corr_features))\n",
    "corr_features"
   ]
  },
  {
   "cell_type": "code",
   "execution_count": 47,
   "id": "36edd613",
   "metadata": {},
   "outputs": [
    {
     "data": {
      "image/png": "[encoded data removed]",
      "text/plain": [
       "<Figure size 1080x864 with 2 Axes>"
      ]
     },
     "metadata": {
      "needs_background": "light"
     },
     "output_type": "display_data"
    }
   ],
   "source": [
    "plt.figure(figsize=(15, 12))\n",
    "heatmap = sns.heatmap(main_df.corr()[['sales']].sort_values(by='sales', ascending=False), vmin=-1, vmax=1, annot=True, cmap='BrBG')\n",
    "heatmap.set_title('Features Correlating with sales', fontdict={'fontsize':18}, pad=16);"
   ]
  },
  {
   "cell_type": "code",
   "execution_count": 43,
   "id": "a93dd37d",
   "metadata": {},
   "outputs": [],
   "source": [
    "drop=[\"month_std\",\"month_mean\",\"day_mean\",\"day_std\",\"medicine_std\",\"city_std\",\"dayofweek_std\"]"
   ]
  },
  {
   "cell_type": "code",
   "execution_count": 44,
   "id": "e7551085",
   "metadata": {},
   "outputs": [],
   "source": [
    "main_df.drop(drop, axis=1, inplace=True)"
   ]
  },
  {
   "cell_type": "code",
   "execution_count": 45,
   "id": "c2cecccb",
   "metadata": {},
   "outputs": [
    {
     "data": {
      "text/html": [
       "<div>\n",
       "<style scoped>\n",
       "    .dataframe tbody tr th:only-of-type {\n",
       "        vertical-align: middle;\n",
       "    }\n",
       "\n",
       "    .dataframe tbody tr th {\n",
       "        vertical-align: top;\n",
       "    }\n",
       "\n",
       "    .dataframe thead th {\n",
       "        text-align: right;\n",
       "    }\n",
       "</style>\n",
       "<table border=\"1\" class=\"dataframe\">\n",
       "  <thead>\n",
       "    <tr style=\"text-align: right;\">\n",
       "      <th></th>\n",
       "      <th>sales</th>\n",
       "      <th>city_mean</th>\n",
       "      <th>medicine_mean</th>\n",
       "      <th>dayofweek_mean</th>\n",
       "    </tr>\n",
       "  </thead>\n",
       "  <tbody>\n",
       "    <tr>\n",
       "      <th>0</th>\n",
       "      <td>24</td>\n",
       "      <td>60.401558</td>\n",
       "      <td>23.153118</td>\n",
       "      <td>44.82919</td>\n",
       "    </tr>\n",
       "    <tr>\n",
       "      <th>1</th>\n",
       "      <td>24</td>\n",
       "      <td>33.350248</td>\n",
       "      <td>23.153118</td>\n",
       "      <td>44.82919</td>\n",
       "    </tr>\n",
       "    <tr>\n",
       "      <th>2</th>\n",
       "      <td>24</td>\n",
       "      <td>37.913428</td>\n",
       "      <td>23.153118</td>\n",
       "      <td>44.82919</td>\n",
       "    </tr>\n",
       "    <tr>\n",
       "      <th>3</th>\n",
       "      <td>80</td>\n",
       "      <td>72.661530</td>\n",
       "      <td>23.153118</td>\n",
       "      <td>44.82919</td>\n",
       "    </tr>\n",
       "    <tr>\n",
       "      <th>4</th>\n",
       "      <td>32</td>\n",
       "      <td>63.244907</td>\n",
       "      <td>23.153118</td>\n",
       "      <td>44.82919</td>\n",
       "    </tr>\n",
       "  </tbody>\n",
       "</table>\n",
       "</div>"
      ],
      "text/plain": [
       "   sales  city_mean  medicine_mean  dayofweek_mean\n",
       "0     24  60.401558      23.153118        44.82919\n",
       "1     24  33.350248      23.153118        44.82919\n",
       "2     24  37.913428      23.153118        44.82919\n",
       "3     80  72.661530      23.153118        44.82919\n",
       "4     32  63.244907      23.153118        44.82919"
      ]
     },
     "execution_count": 45,
     "metadata": {},
     "output_type": "execute_result"
    }
   ],
   "source": [
    "main_df.head()"
   ]
  },
  {
   "cell_type": "code",
   "execution_count": 46,
   "id": "df2229f5",
   "metadata": {},
   "outputs": [
    {
     "data": {
      "text/html": [
       "<div>\n",
       "<style scoped>\n",
       "    .dataframe tbody tr th:only-of-type {\n",
       "        vertical-align: middle;\n",
       "    }\n",
       "\n",
       "    .dataframe tbody tr th {\n",
       "        vertical-align: top;\n",
       "    }\n",
       "\n",
       "    .dataframe thead th {\n",
       "        text-align: right;\n",
       "    }\n",
       "</style>\n",
       "<table border=\"1\" class=\"dataframe\">\n",
       "  <thead>\n",
       "    <tr style=\"text-align: right;\">\n",
       "      <th></th>\n",
       "      <th>sales</th>\n",
       "      <th>city_mean</th>\n",
       "      <th>medicine_mean</th>\n",
       "      <th>dayofweek_mean</th>\n",
       "    </tr>\n",
       "  </thead>\n",
       "  <tbody>\n",
       "    <tr>\n",
       "      <th>0</th>\n",
       "      <td>24</td>\n",
       "      <td>60.401558</td>\n",
       "      <td>23.153118</td>\n",
       "      <td>44.82919</td>\n",
       "    </tr>\n",
       "    <tr>\n",
       "      <th>1</th>\n",
       "      <td>24</td>\n",
       "      <td>33.350248</td>\n",
       "      <td>23.153118</td>\n",
       "      <td>44.82919</td>\n",
       "    </tr>\n",
       "    <tr>\n",
       "      <th>2</th>\n",
       "      <td>24</td>\n",
       "      <td>37.913428</td>\n",
       "      <td>23.153118</td>\n",
       "      <td>44.82919</td>\n",
       "    </tr>\n",
       "    <tr>\n",
       "      <th>3</th>\n",
       "      <td>80</td>\n",
       "      <td>72.661530</td>\n",
       "      <td>23.153118</td>\n",
       "      <td>44.82919</td>\n",
       "    </tr>\n",
       "    <tr>\n",
       "      <th>4</th>\n",
       "      <td>32</td>\n",
       "      <td>63.244907</td>\n",
       "      <td>23.153118</td>\n",
       "      <td>44.82919</td>\n",
       "    </tr>\n",
       "    <tr>\n",
       "      <th>...</th>\n",
       "      <td>...</td>\n",
       "      <td>...</td>\n",
       "      <td>...</td>\n",
       "      <td>...</td>\n",
       "    </tr>\n",
       "    <tr>\n",
       "      <th>22624340</th>\n",
       "      <td>12</td>\n",
       "      <td>36.713226</td>\n",
       "      <td>13.058824</td>\n",
       "      <td>41.76365</td>\n",
       "    </tr>\n",
       "    <tr>\n",
       "      <th>22624341</th>\n",
       "      <td>4</td>\n",
       "      <td>63.244907</td>\n",
       "      <td>20.000000</td>\n",
       "      <td>41.76365</td>\n",
       "    </tr>\n",
       "    <tr>\n",
       "      <th>22624342</th>\n",
       "      <td>4</td>\n",
       "      <td>37.913428</td>\n",
       "      <td>4.000000</td>\n",
       "      <td>41.76365</td>\n",
       "    </tr>\n",
       "    <tr>\n",
       "      <th>22624343</th>\n",
       "      <td>4</td>\n",
       "      <td>59.775443</td>\n",
       "      <td>4.000000</td>\n",
       "      <td>41.76365</td>\n",
       "    </tr>\n",
       "    <tr>\n",
       "      <th>22624344</th>\n",
       "      <td>3</td>\n",
       "      <td>60.401558</td>\n",
       "      <td>3.000000</td>\n",
       "      <td>41.76365</td>\n",
       "    </tr>\n",
       "  </tbody>\n",
       "</table>\n",
       "<p>22624345 rows × 4 columns</p>\n",
       "</div>"
      ],
      "text/plain": [
       "          sales  city_mean  medicine_mean  dayofweek_mean\n",
       "0            24  60.401558      23.153118        44.82919\n",
       "1            24  33.350248      23.153118        44.82919\n",
       "2            24  37.913428      23.153118        44.82919\n",
       "3            80  72.661530      23.153118        44.82919\n",
       "4            32  63.244907      23.153118        44.82919\n",
       "...         ...        ...            ...             ...\n",
       "22624340     12  36.713226      13.058824        41.76365\n",
       "22624341      4  63.244907      20.000000        41.76365\n",
       "22624342      4  37.913428       4.000000        41.76365\n",
       "22624343      4  59.775443       4.000000        41.76365\n",
       "22624344      3  60.401558       3.000000        41.76365\n",
       "\n",
       "[22624345 rows x 4 columns]"
      ]
     },
     "execution_count": 46,
     "metadata": {},
     "output_type": "execute_result"
    }
   ],
   "source": [
    "main_df.dropna()"
   ]
  },
  {
   "cell_type": "code",
   "execution_count": 47,
   "id": "5c7384b2",
   "metadata": {},
   "outputs": [],
   "source": [
    "#main_df[main_df < 0] = 0"
   ]
  },
  {
   "cell_type": "code",
   "execution_count": 48,
   "id": "949c8dac",
   "metadata": {},
   "outputs": [
    {
     "data": {
      "text/html": [
       "<div>\n",
       "<style scoped>\n",
       "    .dataframe tbody tr th:only-of-type {\n",
       "        vertical-align: middle;\n",
       "    }\n",
       "\n",
       "    .dataframe tbody tr th {\n",
       "        vertical-align: top;\n",
       "    }\n",
       "\n",
       "    .dataframe thead th {\n",
       "        text-align: right;\n",
       "    }\n",
       "</style>\n",
       "<table border=\"1\" class=\"dataframe\">\n",
       "  <thead>\n",
       "    <tr style=\"text-align: right;\">\n",
       "      <th></th>\n",
       "      <th>sales</th>\n",
       "      <th>city_mean</th>\n",
       "      <th>medicine_mean</th>\n",
       "      <th>dayofweek_mean</th>\n",
       "    </tr>\n",
       "  </thead>\n",
       "  <tbody>\n",
       "    <tr>\n",
       "      <th>0</th>\n",
       "      <td>24</td>\n",
       "      <td>60.401558</td>\n",
       "      <td>23.153118</td>\n",
       "      <td>44.82919</td>\n",
       "    </tr>\n",
       "    <tr>\n",
       "      <th>1</th>\n",
       "      <td>24</td>\n",
       "      <td>33.350248</td>\n",
       "      <td>23.153118</td>\n",
       "      <td>44.82919</td>\n",
       "    </tr>\n",
       "    <tr>\n",
       "      <th>2</th>\n",
       "      <td>24</td>\n",
       "      <td>37.913428</td>\n",
       "      <td>23.153118</td>\n",
       "      <td>44.82919</td>\n",
       "    </tr>\n",
       "    <tr>\n",
       "      <th>3</th>\n",
       "      <td>80</td>\n",
       "      <td>72.661530</td>\n",
       "      <td>23.153118</td>\n",
       "      <td>44.82919</td>\n",
       "    </tr>\n",
       "    <tr>\n",
       "      <th>4</th>\n",
       "      <td>32</td>\n",
       "      <td>63.244907</td>\n",
       "      <td>23.153118</td>\n",
       "      <td>44.82919</td>\n",
       "    </tr>\n",
       "  </tbody>\n",
       "</table>\n",
       "</div>"
      ],
      "text/plain": [
       "   sales  city_mean  medicine_mean  dayofweek_mean\n",
       "0     24  60.401558      23.153118        44.82919\n",
       "1     24  33.350248      23.153118        44.82919\n",
       "2     24  37.913428      23.153118        44.82919\n",
       "3     80  72.661530      23.153118        44.82919\n",
       "4     32  63.244907      23.153118        44.82919"
      ]
     },
     "execution_count": 48,
     "metadata": {},
     "output_type": "execute_result"
    }
   ],
   "source": [
    "main_df.head()"
   ]
  },
  {
   "cell_type": "code",
   "execution_count": 49,
   "id": "5314844d",
   "metadata": {},
   "outputs": [],
   "source": [
    "def clean_dataset(df):\n",
    "    assert isinstance(df, pd.DataFrame), \"df needs to be a pd.DataFrame\"\n",
    "    df.dropna(inplace=True)\n",
    "    indices_to_keep = ~df.isin([np.nan, np.inf, -np.inf]).any(1)\n",
    "    return df[indices_to_keep].astype(np.float64)"
   ]
  },
  {
   "cell_type": "code",
   "execution_count": 50,
   "id": "e49ff12f",
   "metadata": {},
   "outputs": [
    {
     "data": {
      "text/html": [
       "<div>\n",
       "<style scoped>\n",
       "    .dataframe tbody tr th:only-of-type {\n",
       "        vertical-align: middle;\n",
       "    }\n",
       "\n",
       "    .dataframe tbody tr th {\n",
       "        vertical-align: top;\n",
       "    }\n",
       "\n",
       "    .dataframe thead th {\n",
       "        text-align: right;\n",
       "    }\n",
       "</style>\n",
       "<table border=\"1\" class=\"dataframe\">\n",
       "  <thead>\n",
       "    <tr style=\"text-align: right;\">\n",
       "      <th></th>\n",
       "      <th>sales</th>\n",
       "      <th>city_mean</th>\n",
       "      <th>medicine_mean</th>\n",
       "      <th>dayofweek_mean</th>\n",
       "    </tr>\n",
       "  </thead>\n",
       "  <tbody>\n",
       "    <tr>\n",
       "      <th>0</th>\n",
       "      <td>24.0</td>\n",
       "      <td>60.401558</td>\n",
       "      <td>23.153118</td>\n",
       "      <td>44.82919</td>\n",
       "    </tr>\n",
       "    <tr>\n",
       "      <th>1</th>\n",
       "      <td>24.0</td>\n",
       "      <td>33.350248</td>\n",
       "      <td>23.153118</td>\n",
       "      <td>44.82919</td>\n",
       "    </tr>\n",
       "    <tr>\n",
       "      <th>2</th>\n",
       "      <td>24.0</td>\n",
       "      <td>37.913428</td>\n",
       "      <td>23.153118</td>\n",
       "      <td>44.82919</td>\n",
       "    </tr>\n",
       "    <tr>\n",
       "      <th>3</th>\n",
       "      <td>80.0</td>\n",
       "      <td>72.661530</td>\n",
       "      <td>23.153118</td>\n",
       "      <td>44.82919</td>\n",
       "    </tr>\n",
       "    <tr>\n",
       "      <th>4</th>\n",
       "      <td>32.0</td>\n",
       "      <td>63.244907</td>\n",
       "      <td>23.153118</td>\n",
       "      <td>44.82919</td>\n",
       "    </tr>\n",
       "    <tr>\n",
       "      <th>...</th>\n",
       "      <td>...</td>\n",
       "      <td>...</td>\n",
       "      <td>...</td>\n",
       "      <td>...</td>\n",
       "    </tr>\n",
       "    <tr>\n",
       "      <th>22624340</th>\n",
       "      <td>12.0</td>\n",
       "      <td>36.713226</td>\n",
       "      <td>13.058824</td>\n",
       "      <td>41.76365</td>\n",
       "    </tr>\n",
       "    <tr>\n",
       "      <th>22624341</th>\n",
       "      <td>4.0</td>\n",
       "      <td>63.244907</td>\n",
       "      <td>20.000000</td>\n",
       "      <td>41.76365</td>\n",
       "    </tr>\n",
       "    <tr>\n",
       "      <th>22624342</th>\n",
       "      <td>4.0</td>\n",
       "      <td>37.913428</td>\n",
       "      <td>4.000000</td>\n",
       "      <td>41.76365</td>\n",
       "    </tr>\n",
       "    <tr>\n",
       "      <th>22624343</th>\n",
       "      <td>4.0</td>\n",
       "      <td>59.775443</td>\n",
       "      <td>4.000000</td>\n",
       "      <td>41.76365</td>\n",
       "    </tr>\n",
       "    <tr>\n",
       "      <th>22624344</th>\n",
       "      <td>3.0</td>\n",
       "      <td>60.401558</td>\n",
       "      <td>3.000000</td>\n",
       "      <td>41.76365</td>\n",
       "    </tr>\n",
       "  </tbody>\n",
       "</table>\n",
       "<p>22624345 rows × 4 columns</p>\n",
       "</div>"
      ],
      "text/plain": [
       "          sales  city_mean  medicine_mean  dayofweek_mean\n",
       "0          24.0  60.401558      23.153118        44.82919\n",
       "1          24.0  33.350248      23.153118        44.82919\n",
       "2          24.0  37.913428      23.153118        44.82919\n",
       "3          80.0  72.661530      23.153118        44.82919\n",
       "4          32.0  63.244907      23.153118        44.82919\n",
       "...         ...        ...            ...             ...\n",
       "22624340   12.0  36.713226      13.058824        41.76365\n",
       "22624341    4.0  63.244907      20.000000        41.76365\n",
       "22624342    4.0  37.913428       4.000000        41.76365\n",
       "22624343    4.0  59.775443       4.000000        41.76365\n",
       "22624344    3.0  60.401558       3.000000        41.76365\n",
       "\n",
       "[22624345 rows x 4 columns]"
      ]
     },
     "execution_count": 50,
     "metadata": {},
     "output_type": "execute_result"
    }
   ],
   "source": [
    "clean_dataset(main_df)"
   ]
  },
  {
   "cell_type": "code",
   "execution_count": 51,
   "id": "9e2e8660",
   "metadata": {},
   "outputs": [
    {
     "name": "stdout",
     "output_type": "stream",
     "text": [
      "(18099476, 3)\n",
      "(4524869, 3)\n",
      "(18099476,)\n",
      "(4524869,)\n"
     ]
    }
   ],
   "source": [
    "y=main_df[\"sales\"]\n",
    "X=main_df.drop('sales', axis=1)\n",
    "X_train, X_val, y_train, y_val = train_test_split(X, y, test_size=0.20, random_state=123,shuffle=False)\n",
    "print(X_train.shape)\n",
    "print(X_val.shape)\n",
    "print(y_train.shape)\n",
    "print(y_val.shape)"
   ]
  },
  {
   "cell_type": "code",
   "execution_count": 52,
   "id": "bc2f9af4",
   "metadata": {},
   "outputs": [],
   "source": [
    "scaler = StandardScaler()\n",
    "scaler.fit(X_train)\n",
    "\n",
    "X_train = pd.DataFrame(scaler.transform(X_train))\n",
    "X_val = pd.DataFrame(scaler.transform(X_val))"
   ]
  },
  {
   "cell_type": "code",
   "execution_count": 53,
   "id": "aecfd7c2",
   "metadata": {},
   "outputs": [
    {
     "data": {
      "text/html": [
       "<div>\n",
       "<style scoped>\n",
       "    .dataframe tbody tr th:only-of-type {\n",
       "        vertical-align: middle;\n",
       "    }\n",
       "\n",
       "    .dataframe tbody tr th {\n",
       "        vertical-align: top;\n",
       "    }\n",
       "\n",
       "    .dataframe thead th {\n",
       "        text-align: right;\n",
       "    }\n",
       "</style>\n",
       "<table border=\"1\" class=\"dataframe\">\n",
       "  <thead>\n",
       "    <tr style=\"text-align: right;\">\n",
       "      <th></th>\n",
       "      <th>0</th>\n",
       "      <th>1</th>\n",
       "      <th>2</th>\n",
       "    </tr>\n",
       "  </thead>\n",
       "  <tbody>\n",
       "    <tr>\n",
       "      <th>0</th>\n",
       "      <td>0.719484</td>\n",
       "      <td>-0.423064</td>\n",
       "      <td>-0.905772</td>\n",
       "    </tr>\n",
       "    <tr>\n",
       "      <th>1</th>\n",
       "      <td>-1.490604</td>\n",
       "      <td>-0.423064</td>\n",
       "      <td>-0.905772</td>\n",
       "    </tr>\n",
       "    <tr>\n",
       "      <th>2</th>\n",
       "      <td>-1.117793</td>\n",
       "      <td>-0.423064</td>\n",
       "      <td>-0.905772</td>\n",
       "    </tr>\n",
       "    <tr>\n",
       "      <th>3</th>\n",
       "      <td>1.721122</td>\n",
       "      <td>-0.423064</td>\n",
       "      <td>-0.905772</td>\n",
       "    </tr>\n",
       "    <tr>\n",
       "      <th>4</th>\n",
       "      <td>0.951785</td>\n",
       "      <td>-0.423064</td>\n",
       "      <td>-0.905772</td>\n",
       "    </tr>\n",
       "  </tbody>\n",
       "</table>\n",
       "</div>"
      ],
      "text/plain": [
       "          0         1         2\n",
       "0  0.719484 -0.423064 -0.905772\n",
       "1 -1.490604 -0.423064 -0.905772\n",
       "2 -1.117793 -0.423064 -0.905772\n",
       "3  1.721122 -0.423064 -0.905772\n",
       "4  0.951785 -0.423064 -0.905772"
      ]
     },
     "execution_count": 53,
     "metadata": {},
     "output_type": "execute_result"
    }
   ],
   "source": [
    "X_train.head()"
   ]
  },
  {
   "cell_type": "code",
   "execution_count": 57,
   "id": "2e84d8cf",
   "metadata": {},
   "outputs": [
    {
     "name": "stdout",
     "output_type": "stream",
     "text": [
      "81.69827055720897\n",
      "79.05465822210664\n"
     ]
    }
   ],
   "source": [
    "lm2 = LinearRegression(n_jobs=-1)\n",
    "# Fit Model\n",
    "lm2.fit(X_train, y_train)\n",
    "# Predict\n",
    "y_pred_train = lm2.predict(X_train)\n",
    "y_pred_val = lm2.predict(X_val)\n",
    " #RMSE\n",
    "print(np.sqrt(metrics.mean_squared_error(y_train, y_pred_train)))    \n",
    "print(np.sqrt(metrics.mean_squared_error(y_val, y_pred_val)))"
   ]
  },
  {
   "cell_type": "code",
   "execution_count": 58,
   "id": "c05a83e5",
   "metadata": {},
   "outputs": [],
   "source": [
    "clf_rf = RandomForestRegressor(n_estimators=100,max_features=3,random_state=1, n_jobs= -1)\n",
    "\n",
    "clf_rf.fit(X=X_train, y=y_train)\n",
    "\n",
    "y_pred_train = clf_rf.predict(X_train)\n",
    "\n",
    "\n",
    "y_pred_val = clf_rf.predict(X_val)\n"
   ]
  },
  {
   "cell_type": "code",
   "execution_count": 59,
   "id": "d0298673",
   "metadata": {},
   "outputs": [
    {
     "name": "stdout",
     "output_type": "stream",
     "text": [
      "67.02063265235735\n",
      "66.17443330289346\n"
     ]
    }
   ],
   "source": [
    "print(np.sqrt(metrics.mean_squared_error(y_train, y_pred_train)))\n",
    "print(np.sqrt(metrics.mean_squared_error(y_val, y_pred_val)))"
   ]
  },
  {
   "cell_type": "code",
   "execution_count": 63,
   "id": "d13d3f05-1252-4e9f-bd81-e0255ba89798",
   "metadata": {},
   "outputs": [],
   "source": [
    "#rfc_grid = RandomForestRegressor(n_jobs=-1,max_features='sqrt')\n",
    " \n",
    "# Use a grid over parameters of interest\n",
    "\n",
    "#param_grid = { \n",
    "          # \"n_estimators\" : [9, 18, 27, 36, 45, 54, 63],\n",
    "          # \"max_depth\" : [5, 10],\n",
    "          # \"min_samples_leaf\" : [2, 4]}\n",
    " \n",
    "#rfc_cv_grid = GridSearchCV(estimator = rfc_grid, param_grid = param_grid, cv = 10)"
   ]
  },
  {
   "cell_type": "code",
   "execution_count": null,
   "id": "6d5b6fd4-4896-43aa-a245-a68b7b5c5690",
   "metadata": {},
   "outputs": [],
   "source": [
    "#rfc_cv_grid.fit(X = X_train, y = y_train)"
   ]
  },
  {
   "cell_type": "code",
   "execution_count": null,
   "id": "db3580d7-7d84-43b6-bc12-80de417a60e8",
   "metadata": {},
   "outputs": [],
   "source": [
    "#print(rfc_cv_grid.best_score_,rfc_cv_grid.best_params_)"
   ]
  },
  {
   "cell_type": "code",
   "execution_count": null,
   "id": "ae27d930-633b-476b-b24e-67a3cf5bc6e4",
   "metadata": {},
   "outputs": [],
   "source": [
    "#y_pred_train = rfc_cv_grid.predict(X_train)\n",
    "#y_pred_val = rfc_cv_grid.predict(X_val)"
   ]
  },
  {
   "cell_type": "code",
   "execution_count": null,
   "id": "cc113339-4c3b-44f2-be8c-dcac43e91150",
   "metadata": {},
   "outputs": [],
   "source": [
    "#print(np.sqrt(metrics.mean_squared_error(y_train, y_pred_train)))\n",
    "#print(np.sqrt(metrics.mean_squared_error(y_val, y_pred_val)))"
   ]
  },
  {
   "cell_type": "code",
   "execution_count": 59,
   "id": "7b300d68-da1a-4732-88e7-4fcab0f5dcbb",
   "metadata": {},
   "outputs": [],
   "source": [
    "GBM_model = GradientBoostingRegressor(n_estimators=100,\n",
    "                                       learning_rate=0.3,\n",
    "                                       subsample=0.8)"
   ]
  },
  {
   "cell_type": "code",
   "execution_count": 63,
   "id": "ec1093c2-e26d-43bf-8768-d40c309d329d",
   "metadata": {},
   "outputs": [
    {
     "name": "stdout",
     "output_type": "stream",
     "text": [
      "CPU times: user 8min 53s, sys: 38.7 s, total: 9min 32s\n",
      "Wall time: 9min 36s\n"
     ]
    },
    {
     "data": {
      "text/plain": [
       "GradientBoostingRegressor(learning_rate=0.3, subsample=0.8)"
      ]
     },
     "execution_count": 63,
     "metadata": {},
     "output_type": "execute_result"
    }
   ],
   "source": [
    "%time GBM_model.fit(X=X_train, y=y_train)"
   ]
  },
  {
   "cell_type": "code",
   "execution_count": 64,
   "id": "0a998740-46a8-45d6-86b3-c763cb6d4a19",
   "metadata": {},
   "outputs": [],
   "source": [
    "y_pred_train = GBM_model.predict(X_train)\n",
    "y_pred_val = GBM_model.predict(X_val)"
   ]
  },
  {
   "cell_type": "code",
   "execution_count": 65,
   "id": "eb297884-ab0f-4381-bd00-01fef2fb4b64",
   "metadata": {},
   "outputs": [
    {
     "name": "stdout",
     "output_type": "stream",
     "text": [
      "75.20381498831429\n",
      "71.29845646652653\n"
     ]
    }
   ],
   "source": [
    "print(np.sqrt(metrics.mean_squared_error(y_train, y_pred_train)))\n",
    "print(np.sqrt(metrics.mean_squared_error(y_val, y_pred_val)))"
   ]
  },
  {
   "cell_type": "code",
   "execution_count": null,
   "id": "fcb38f16-e965-40bd-83b4-e97bbdd7a409",
   "metadata": {},
   "outputs": [],
   "source": []
  },
  {
   "cell_type": "code",
   "execution_count": 66,
   "id": "3b69295f-311b-464c-93b3-8ea18927898b",
   "metadata": {},
   "outputs": [],
   "source": [
    "# Model in use\n",
    "#GBM = GradientBoostingClassifier() \n",
    " \n",
    "# Use a grid over parameters of interest\n",
    "#param_grid = { \n",
    "          # \"n_estimators\" : [50,100,150],\n",
    "           #\"max_depth\" : [5, 10],\n",
    "          # \"learning_rate\" : [0.1,0.2,0.3]}\n",
    " \n",
    "#CV_GBM = GridSearchCV(estimator=GBM, param_grid=param_grid, cv=5)"
   ]
  },
  {
   "cell_type": "code",
   "execution_count": 67,
   "id": "71eff1b2-a8ff-4c35-904b-61ce2d764334",
   "metadata": {},
   "outputs": [],
   "source": [
    "#%time CV_GBM.fit(X=X_train, y=y_train)"
   ]
  },
  {
   "cell_type": "code",
   "execution_count": 68,
   "id": "f7a131ec-7b70-4b67-814a-daeba317ca6d",
   "metadata": {},
   "outputs": [],
   "source": [
    "#best_gbm_model = CV_GBM.best_estimator_\n",
    "#print (CV_GBM.best_score_, CV_GBM.best_params_)"
   ]
  },
  {
   "cell_type": "code",
   "execution_count": 69,
   "id": "11e4cc89-f5c9-4014-9a18-f826e029db9b",
   "metadata": {},
   "outputs": [],
   "source": [
    "#y_pred_train=best_gbm_model.predict(X_train)\n",
    "#y_pred_val=best_gbm_model.predict(X_val)"
   ]
  },
  {
   "cell_type": "code",
   "execution_count": 70,
   "id": "81153492-4e10-4719-a5f1-9a328f0137b6",
   "metadata": {},
   "outputs": [],
   "source": [
    "#print(np.sqrt(metrics.mean_squared_error(y_train, y_pred_train)))\n",
    "#print(np.sqrt(metrics.mean_squared_error(y_val, y_pred_val)))"
   ]
  },
  {
   "cell_type": "code",
   "execution_count": null,
   "id": "f316f527-b256-4565-a133-8d5e59006f1f",
   "metadata": {},
   "outputs": [],
   "source": [
    "clf_adaboost =  AdaBoostRegressor(n_estimators = 100,\n",
    "    learning_rate = 0.4)\n",
    "\n",
    "clf_adaboost.fit(X_train, y_train)\n",
    "\n",
    "y_pred_train = clf_adaboost.predict(X_train)\n",
    "y_pred_val = clf_adaboost.predict(X_val)\n"
   ]
  },
  {
   "cell_type": "code",
   "execution_count": null,
   "id": "cbd817b2-a95a-47ed-bb71-59fa7aed22b0",
   "metadata": {},
   "outputs": [],
   "source": [
    "print(np.sqrt(metrics.mean_squared_error(y_train, y_pred_train)))\n",
    "print(np.sqrt(metrics.mean_squared_error(y_val, y_pred_val)))"
   ]
  },
  {
   "cell_type": "code",
   "execution_count": 56,
   "id": "5b827958-5b8e-4e92-8cf8-b2c842d9d738",
   "metadata": {},
   "outputs": [
    {
     "name": "stdout",
     "output_type": "stream",
     "text": [
      "CPU times: user 28min 44s, sys: 2min 46s, total: 31min 30s\n",
      "Wall time: 4min 23s\n"
     ]
    },
    {
     "data": {
      "text/plain": [
       "XGBRegressor(base_score=0.5, booster='gbtree', colsample_bylevel=1,\n",
       "             colsample_bynode=1, colsample_bytree=1, enable_categorical=False,\n",
       "             gamma=0.5, gpu_id=-1, importance_type=None,\n",
       "             interaction_constraints='', learning_rate=0.1, max_delta_step=0,\n",
       "             max_depth=6, min_child_weight=1, missing=nan,\n",
       "             monotone_constraints='()', n_estimators=100, n_jobs=-1,\n",
       "             num_parallel_tree=1, predictor='auto', random_state=0, reg_alpha=0,\n",
       "             reg_lambda=1, scale_pos_weight=1, subsample=1,\n",
       "             tree_method='approx', validate_parameters=1, verbosity=None)"
      ]
     },
     "execution_count": 56,
     "metadata": {},
     "output_type": "execute_result"
    }
   ],
   "source": [
    "XGB_model = XGBRegressor(n_estimators=100, gamma=0.5,learning_rate=0.1, n_jobs=-1)\n",
    "%time XGB_model.fit(X_train, y_train)"
   ]
  },
  {
   "cell_type": "code",
   "execution_count": 57,
   "id": "4d7ab98f-abae-417c-b703-fc98a31d51e1",
   "metadata": {},
   "outputs": [],
   "source": [
    "y_pred_train = XGB_model.predict(X_train)\n",
    "y_pred_val = XGB_model.predict(X_val)"
   ]
  },
  {
   "cell_type": "code",
   "execution_count": 58,
   "id": "2984aa07-0cf6-4667-8c51-5d5c2699964e",
   "metadata": {},
   "outputs": [
    {
     "name": "stdout",
     "output_type": "stream",
     "text": [
      "81.90304\n",
      "80.743866\n"
     ]
    }
   ],
   "source": [
    "print(np.sqrt(metrics.mean_squared_error(y_train, y_pred_train)))\n",
    "print(np.sqrt(metrics.mean_squared_error(y_val, y_pred_val)))"
   ]
  },
  {
   "cell_type": "code",
   "execution_count": 60,
   "id": "b040bd37-8881-4abb-84fe-89bd5cb9b781",
   "metadata": {},
   "outputs": [],
   "source": [
    "XGB = XGBRegressor(n_jobs=-1)\n",
    " \n",
    "# Use a grid over parameters of interest\n",
    "param_grid = {\n",
    "     'colsample_bytree': np.linspace(0.6, 0.8, 2),\n",
    "     'n_estimators':[100,200],\n",
    "     'max_depth': [5, 10]\n",
    "}\n",
    "\n",
    "CV_XGB = GridSearchCV(estimator=XGB, param_grid=param_grid, cv= 10)"
   ]
  },
  {
   "cell_type": "code",
   "execution_count": null,
   "id": "9334ee44-95f4-4473-a46e-f676b966e424",
   "metadata": {},
   "outputs": [],
   "source": [
    "%time CV_XGB.fit(X = X_train, y=y_train)"
   ]
  },
  {
   "cell_type": "code",
   "execution_count": null,
   "id": "9219a122-6a85-4d38-a429-70ff4c9b9212",
   "metadata": {},
   "outputs": [],
   "source": [
    "best_xgb_model = CV_XGB.best_estimator_\n",
    "print (CV_XGB.best_score_, CV_XGB.best_params_)"
   ]
  },
  {
   "cell_type": "code",
   "execution_count": null,
   "id": "30241736-82af-48a6-8d4c-0ef18a1f3ce3",
   "metadata": {},
   "outputs": [],
   "source": [
    "y_pred_train=best_xgb_model.predict(X_train)\n",
    "y_pred_val=best_xgb_model.predict(X_val)"
   ]
  },
  {
   "cell_type": "code",
   "execution_count": null,
   "id": "788322bc-3d08-4403-8a43-9dc4c2882005",
   "metadata": {},
   "outputs": [],
   "source": [
    "print(np.sqrt(metrics.mean_squared_error(y_train, y_pred_train)))\n",
    "print(np.sqrt(metrics.mean_squared_error(y_val, y_pred_val)))"
   ]
  },
  {
   "cell_type": "code",
   "execution_count": 60,
   "id": "25172847",
   "metadata": {},
   "outputs": [],
   "source": [
    "#main_df.describe()"
   ]
  }
 ],
 "metadata": {
  "kernelspec": {
   "display_name": "Python 3 (ipykernel)",
   "language": "python",
   "name": "python3"
  },
  "language_info": {
   "codemirror_mode": {
    "name": "ipython",
    "version": 3
   },
   "file_extension": ".py",
   "mimetype": "text/x-python",
   "name": "python",
   "nbconvert_exporter": "python",
   "pygments_lexer": "ipython3",
   "version": "3.9.7"
  }
 },
 "nbformat": 4,
 "nbformat_minor": 5
}
